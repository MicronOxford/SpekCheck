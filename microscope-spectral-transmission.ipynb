{
 "cells": [
  {
   "cell_type": "code",
   "execution_count": null,
   "metadata": {
    "collapsed": true
   },
   "outputs": [],
   "source": [
    "#Notebook to deduce transmissionn characteristics of stacks of \n",
    "#dichroics and filters such as those used in OMX style \n",
    "# microscopes. \n",
    "#\n"
   ]
  },
  {
   "cell_type": "code",
   "execution_count": null,
   "metadata": {
    "collapsed": true
   },
   "outputs": [],
   "source": [
    "import numpy as N\n",
    "from PIL import Image\n",
    "import matplotlib.pyplot as plt\n",
    "import csv\n",
    "%matplotlib inline "
   ]
  },
  {
   "cell_type": "code",
   "execution_count": null,
   "metadata": {
    "collapsed": false
   },
   "outputs": [],
   "source": [
    "def transmit(dye,filterlist):\n",
    "    sequence=N.zeros((len(filterlist)+1,501))\n",
    "    sequence[0]=specs[filters.index(dye)]\n",
    "    startIntensity=sequence[0].sum()\n",
    "    for i in range(len(filterlist)):\n",
    "        (filter,mode) = filterlist[i]\n",
    "        fspectra=specs[filters.index(filter)]\n",
    "        if(mode == 'T'):\n",
    "            sequence[i+1]=sequence[i]*(1.0-fspectra)\n",
    "        else:\n",
    "            sequence[i+1]=sequence[i]*(fspectra)\n",
    "    endIntensity=sequence[-1].sum()\n",
    "    transmit=endIntensity/startIntensity\n",
    "    return(transmit,sequence)\n",
    "    "
   ]
  },
  {
   "cell_type": "code",
   "execution_count": null,
   "metadata": {
    "collapsed": false
   },
   "outputs": [],
   "source": [
    "#Read in filters, dyes and dichroics\n",
    "#Note, dichroics are reflectance and emission filters are transmission!\n",
    "filters=['EM-482-35','EM-525-50wo514','EM-629-53','EM-645-75-m','EM-642-80-m','EM-550-49',\n",
    "         'EM-442-46','EM-525-50','EM-615-24','EM-684-40',\n",
    "         'R-0039','R-0054','R-0056','R-0048','R-0053','R-0052','R-0058','R-0063',\n",
    "         'GFP','mCherry','mKate2','mRFP','mScarlet']\n",
    "\n",
    "#import mciroscope configs from channelConfig file\n",
    "import spectra.channelConfig\n",
    "#print spectra.channelConfig.Channels\n",
    "\n",
    "specs=N.zeros((len(filters),800-300+1))\n",
    "headers=[None]*len(filters)\n",
    "numspectra=0\n",
    "for fname in filters:\n",
    "    with open('spectra/'+filters[numspectra]+'.csv', 'rUb') as csvfile:\n",
    "        readvalues=N.zeros((1000,2))\n",
    "        pointreader = csv.reader(csvfile, delimiter=',')\n",
    "        i=0\n",
    "        for row in pointreader:\n",
    "            if i==0:\n",
    "                headers[numspectra]=row\n",
    "            else:\n",
    "                readvalues[i-1]=[float(row[0]),float(row[1])]\n",
    "            i=i+1\n",
    "        #spectra defined in range 300-800, interpolated to 1nm resolution. \n",
    "        specs[numspectra]=N.interp(range(300,801,1),readvalues[:i-1,0],readvalues[:i-1,1])\n",
    "    numspectra=numspectra+1"
   ]
  },
  {
   "cell_type": "code",
   "execution_count": null,
   "metadata": {
    "collapsed": false
   },
   "outputs": [],
   "source": [
    "microscope='OMX_V3'\n",
    "channel='Std_GFP'\n",
    "dye='mKate2'\n",
    "scopeDef= [x for x in spectra.channelConfig.Channels if (x[0]==microscope and x[1]==channel)]\n",
    "(efficency,output)=transmit(dye,scopeDef[0][2])\n",
    "print \"Efficency=%2.2f%%\" % (efficency*100.)\n",
    "plt.plot(range(300,801,1),output[0])\n",
    "plt.plot(range(300,801,1),output[-1])"
   ]
  },
  {
   "cell_type": "code",
   "execution_count": null,
   "metadata": {
    "collapsed": true
   },
   "outputs": [],
   "source": [
    "#example to build a spectra of mKate2 on OMX V3\n",
    "# standard drawer:\n",
    "#primary dichroic 1 = 0039\n",
    "#primary dichroic 2 = 0063\n",
    "#secondardy dichroic 1 = 0058 \n",
    "#emmissionR = 615/24\n",
    "#emissionT = 442/46\n",
    "#secondary Dichroic 2 = 0054\n",
    "#emmissionR = 685/40\n",
    "#emissionT = 525/50\n",
    "\n",
    "#Standard drawer mKate2 emission:\n",
    "#trans primary 2, reflect primary 1, reflect secodnary 1, em 615/24\n",
    "\n",
    "\n",
    "#example to build a spectra of mKate2 on OMX V3\n",
    "# standard drawer:\n",
    "#primary dichroic 1 = 0048\n",
    "#primary dichroic 2 = 0056\n",
    "#secondardy dichroic 1 = 0053\n",
    "#emmissionR = 482/35\n",
    "#emissionT = 629/59\n",
    "#secondary Dichroic 2 = 0052 - has been removed in OMX v3 drawer\n",
    "#emmissionT = 550/49\n",
    "#emissionR = DIC (650+?)  (but not accessible as dichroic removed)\n",
    "\n",
    "#Live drawer mKate2 emission:\n",
    "#trans primary 2, reflect primary 1, trans secodnary 1, em 629/53"
   ]
  },
  {
   "cell_type": "code",
   "execution_count": null,
   "metadata": {
    "collapsed": true
   },
   "outputs": [],
   "source": []
  },
  {
   "cell_type": "code",
   "execution_count": null,
   "metadata": {
    "collapsed": true
   },
   "outputs": [],
   "source": []
  },
  {
   "cell_type": "code",
   "execution_count": null,
   "metadata": {
    "collapsed": false,
    "scrolled": true
   },
   "outputs": [],
   "source": [
    "stages=[('R-0056','Trans'),('R-0048','Reflect'),('R-0053','Trans'),('EM-629-53','Reflect')]\n",
    "start=spectra[filters.index('mKate2')]\n",
    "startint=start.sum()\n",
    "print startint\n",
    "plt.plot(range(400,801,1),start[100:])\n",
    "\n",
    "for i in range(len(stages)):\n",
    "    (filter,mode) = stages[i]\n",
    "    fspectra=spectra[filters.index(filter)]\n",
    "    if(mode == 'Trans'):\n",
    "        start=start*(1.0-fspectra)\n",
    "    elif (mode== 'Reflect'):\n",
    "        start=start*(fspectra)\n",
    "\n",
    "    plt.plot(range(400,801,1),start[100:])\n",
    "\n",
    "endint=start.sum()\n",
    "print (\"Precentate transmission = %f\" % ((endint*100.)/startint))\n",
    "#print filters[i]\n",
    "#plt.plot(range(400,801,1),spectra[i,100:])\n"
   ]
  },
  {
   "cell_type": "code",
   "execution_count": null,
   "metadata": {
    "collapsed": false
   },
   "outputs": [],
   "source": [
    "stages=[['R-0056','T'],['R-0048','R'],['R-0053','T'],['EM-629-53','R']]\n",
    "dye=spectra[filters.index('mKate2')]\n",
    "startint=dye.sum()\n",
    "\n",
    "output=transmit(dye,stages)\n",
    "\n",
    "plt.plot(range(400,801,1),output[1,100:])\n",
    "\n",
    "#print output[0]\n",
    "endint=output[-1,:].sum()"
   ]
  },
  {
   "cell_type": "code",
   "execution_count": null,
   "metadata": {
    "collapsed": false
   },
   "outputs": [],
   "source": [
    "stages=N.array([['R-0056','T'],['R-0048','R'],['R-0053','T'],['EM-629-53','R']])\n",
    "    input=[[]]\n",
    "for i in range (len(stages)):\n",
    "    input.append()"
   ]
  },
  {
   "cell_type": "code",
   "execution_count": null,
   "metadata": {
    "collapsed": false,
    "scrolled": true
   },
   "outputs": [],
   "source": [
    "#GFP on V3 live cell drawer\n",
    "stages=[('R-0056','Reflect'),('EM-550-49','Reflect')]\n",
    "start=spectra[filters.index('GFP')]\n",
    "startint=start.sum()\n",
    "plt.plot(range(400,801,1),start[100:])\n",
    "\n",
    "for i in range(len(stages)):\n",
    "    (filter,mode) = stages[i]\n",
    "    fspectra=spectra[filters.index(filter)]\n",
    "    if(mode == 'Trans'):\n",
    "        start=start*(1.0-fspectra)\n",
    "    elif (mode== 'Reflect'):\n",
    "        start=start*(fspectra)\n",
    "\n",
    "    plt.plot(range(400,801,1),start[100:])\n",
    "\n",
    "endint=start.sum()\n",
    "print (\"Precentate transmission = %f\" % ((endint*100.)/startint))"
   ]
  },
  {
   "cell_type": "code",
   "execution_count": null,
   "metadata": {
    "collapsed": false
   },
   "outputs": [],
   "source": [
    "#GFP on V3 standard drawer\n",
    "stages=[('R-0063','Reflect'),('R-0054','Trans'),('EM-525-50','Reflect')]\n",
    "start=spectra[filters.index('GFP')]\n",
    "startint=start.sum()\n",
    "plt.plot(range(400,801,1),start[100:])\n",
    "\n",
    "for i in range(len(stages)):\n",
    "    (filter,mode) = stages[i]\n",
    "    fspectra=spectra[filters.index(filter)]\n",
    "    if(mode == 'Trans'):\n",
    "        start=start*(1.0-fspectra)\n",
    "    elif (mode== 'Reflect'):\n",
    "        start=start*(fspectra)\n",
    "\n",
    "    plt.plot(range(400,801,1),start[100:])\n",
    "\n",
    "endint=start.sum()\n",
    "print (\"Precentate transmission = %f\" % ((endint*100.)/startint))"
   ]
  },
  {
   "cell_type": "code",
   "execution_count": null,
   "metadata": {
    "collapsed": false
   },
   "outputs": [],
   "source": [
    "#mRFP on V3 Live Cell.\n",
    "stages=[('R-0056','Trans'),('R-0048','Reflect'),('R-0053','Trans'),('EM-629-53','Reflect')]\n",
    "start=spectra[filters.index('mScarlet')]\n",
    "startint=start.sum()\n",
    "plt.plot(range(400,801,1),start[100:])\n",
    "\n",
    "for i in range(len(stages)):\n",
    "    (filter,mode) = stages[i]\n",
    "    fspectra=spectra[filters.index(filter)]\n",
    "    if(mode == 'Trans'):\n",
    "        start=start*(1.0-fspectra)\n",
    "    elif (mode== 'Reflect'):\n",
    "        start=start*(fspectra)\n",
    "\n",
    "    plt.plot(range(400,801,1),start[100:])\n",
    "\n",
    "endint=start.sum()\n",
    "print (\"Precentate transmission = %f\" % ((endint*100.)/startint))"
   ]
  },
  {
   "cell_type": "code",
   "execution_count": null,
   "metadata": {
    "collapsed": false
   },
   "outputs": [],
   "source": [
    "#mRFP on V3 Standrad.\n",
    "stages=[('R-0063','Trans'),('R-0039','Reflect'),('R-0058','Reflect'),('EM-615-24','Reflect')]\n",
    "start=spectra[filters.index('mScarlet')]\n",
    "startint=start.sum()\n",
    "plt.plot(range(400,801,1),start[100:])\n",
    "\n",
    "for i in range(len(stages)):\n",
    "    (filter,mode) = stages[i]\n",
    "    fspectra=spectra[filters.index(filter)]\n",
    "    if(mode == 'Trans'):\n",
    "        start=start*(1.0-fspectra)\n",
    "    elif (mode== 'Reflect'):\n",
    "        start=start*(fspectra)\n",
    "\n",
    "    plt.plot(range(400,801,1),start[100:])\n",
    "\n",
    "endint=start.sum()\n",
    "print (\"Precentage transmission = %f\" % ((endint*100.)/startint))"
   ]
  }
 ],
 "metadata": {
  "kernelspec": {
   "display_name": "Python 2",
   "language": "python",
   "name": "python2"
  },
  "language_info": {
   "codemirror_mode": {
    "name": "ipython",
    "version": 2
   },
   "file_extension": ".py",
   "mimetype": "text/x-python",
   "name": "python",
   "nbconvert_exporter": "python",
   "pygments_lexer": "ipython2",
   "version": "2.7.13"
  }
 },
 "nbformat": 4,
 "nbformat_minor": 0
}
